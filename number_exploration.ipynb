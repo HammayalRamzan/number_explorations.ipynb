{
 "cells": [
  {
   "cell_type": "code",
   "execution_count": 1,
   "metadata": {},
   "outputs": [
    {
     "name": "stdout",
     "output_type": "stream",
     "text": [
      "Hammayal\n"
     ]
    }
   ],
   "source": [
    "# Enter the user name /string used + print statement\n",
    "user_name:str =\"Hammayal\"\n",
    "print(user_name)"
   ]
  },
  {
   "cell_type": "code",
   "execution_count": 65,
   "metadata": {},
   "outputs": [
    {
     "name": "stdout",
     "output_type": "stream",
     "text": [
      "4\n",
      "6\n",
      "11\n",
      "Hello Hammayal,Lets explore your favorite number 4\n",
      "Amazing! This is your favorite number 6\n",
      "wow! 11 is a prime number\n"
     ]
    }
   ],
   "source": [
    "# Enter favorite numbers/ f-string used\n",
    "user_name=\"Hammayal\"\n",
    "value_1:int =4\n",
    "value_2:int =6\n",
    "value_3:int =11\n",
    "print(value_1)\n",
    "print(value_2)\n",
    "print(value_3)\n",
    "print(f'Hello {user_name},Lets explore your favorite number {value_1}')\n",
    "print(f'Amazing! This is your favorite number {value_2}')\n",
    "print(f'wow! {value_3} is a prime number')\n"
   ]
  },
  {
   "cell_type": "code",
   "execution_count": 49,
   "metadata": {},
   "outputs": [
    {
     "name": "stdout",
     "output_type": "stream",
     "text": [
      "The number 4 is even and its square is 16\n",
      "The number 9 is odd and its square is 81\n"
     ]
    }
   ],
   "source": [
    "# List of tuples \n",
    "even_number = (4*4)\n",
    "odd_number = (9*9)\n",
    "print(f'The number 4 is even and its square is {even_number}') \n",
    "print(f'The number 9 is odd and its square is {odd_number}') \n"
   ]
  },
  {
   "cell_type": "code",
   "execution_count": 63,
   "metadata": {},
   "outputs": [
    {
     "name": "stdout",
     "output_type": "stream",
     "text": [
      "Addition 95\n",
      "Subtraction 5\n",
      "Multiply 2250\n",
      "Division 1.1111111111111112\n",
      "Division 1\n",
      "Exponentiation 28421709430404007434844970703125000000000000000000000000000000000000000000000\n",
      "Modulud 5\n"
     ]
    }
   ],
   "source": [
    "# operators\n",
    "a=50\n",
    "b=45\n",
    "Addition=a+b\n",
    "print(f'Addition {Addition}')\n",
    "subtraction=a-b\n",
    "print(f'Subtraction {subtraction}')\n",
    "Multiply=a*b\n",
    "print(f'Multiply {Multiply}')\n",
    "Division=a/b\n",
    "print(f'Division {Division}')\n",
    "Division=a//b\n",
    "print(f'Division {Division}')\n",
    "Exponentiation=a**b\n",
    "print(f'Exponentiation {Exponentiation}')\n",
    "Modulus=a%b\n",
    "print(f'Modulud {Modulus}')\n",
    "\n",
    "\n"
   ]
  },
  {
   "cell_type": "code",
   "execution_count": 52,
   "metadata": {},
   "outputs": [
    {
     "name": "stdout",
     "output_type": "stream",
     "text": [
      "<class 'list'>\n",
      "[2, 4, 6, 8, 10]\n",
      "6\n",
      "12\n",
      "18\n",
      "24\n",
      "30\n"
     ]
    }
   ],
   "source": [
    "# Use of list and loops\n",
    "numbers=[2,4,6,8,10]\n",
    "print(type(numbers))\n",
    "print(numbers)\n",
    "for x in numbers:\n",
    "    print(x*3)\n",
    "    "
   ]
  },
  {
   "cell_type": "code",
   "execution_count": 39,
   "metadata": {},
   "outputs": [
    {
     "name": "stdout",
     "output_type": "stream",
     "text": [
      "its a warm day\n"
     ]
    }
   ],
   "source": [
    "# If statements\n",
    "Temperature= 18\n",
    "if Temperature > 25:\n",
    "    print('its a hot day')\n",
    "elif Temperature > 15:\n",
    "    print('its a warm day')\n",
    "else:\n",
    "    print('its a chilly day')"
   ]
  },
  {
   "cell_type": "code",
   "execution_count": 48,
   "metadata": {},
   "outputs": [
    {
     "name": "stdout",
     "output_type": "stream",
     "text": [
      "4\n",
      "5\n",
      "6\n"
     ]
    }
   ],
   "source": [
    "\n",
    "# Input handling\n",
    "num1= input(\"Enter first number\")\n",
    "num2= input(\"Enter second number\")\n",
    "num3= input(\"Enter third number\")\n",
    "print(num1)\n",
    "print(num2)\n",
    "print(num3)\n"
   ]
  }
 ],
 "metadata": {
  "kernelspec": {
   "display_name": "Python 3",
   "language": "python",
   "name": "python3"
  },
  "language_info": {
   "codemirror_mode": {
    "name": "ipython",
    "version": 3
   },
   "file_extension": ".py",
   "mimetype": "text/x-python",
   "name": "python",
   "nbconvert_exporter": "python",
   "pygments_lexer": "ipython3",
   "version": "3.12.4"
  }
 },
 "nbformat": 4,
 "nbformat_minor": 2
}
